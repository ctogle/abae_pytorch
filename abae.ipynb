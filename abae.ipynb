{
 "cells": [
  {
   "cell_type": "code",
   "execution_count": 1,
   "metadata": {},
   "outputs": [
    {
     "name": "stdout",
     "output_type": "stream",
     "text": [
      "nbAgg\n"
     ]
    }
   ],
   "source": [
    "%load_ext autoreload\n",
    "%autoreload 2\n",
    "#%matplotlib inline\n",
    "%matplotlib notebook\n",
    "import matplotlib\n",
    "import matplotlib.pyplot as plt\n",
    "print(plt.get_backend())"
   ]
  },
  {
   "cell_type": "code",
   "execution_count": 2,
   "metadata": {},
   "outputs": [],
   "source": [
    "from torch.nn.functional import normalize\n",
    "import torch.optim as optim\n",
    "import torch\n",
    "from abae_pytorch.train import max_margin_loss, orthogonal_regularization, plotter\n",
    "import collections\n",
    "import matplotlib.cm as cm\n",
    "import numpy as np\n",
    "import tqdm\n",
    "\n",
    "\n",
    "def sample_aspects(projection, i2w, n=8):\n",
    "    projection = torch.sort(projection, dim=1)\n",
    "    for j, (projs, index) in enumerate(zip(*projection)):\n",
    "        index = index[-n:].detach().cpu().numpy()\n",
    "        words = ', '.join([i2w[i] for i in index])\n",
    "        print('Aspect %2d: %s' % (j + 1, words))\n",
    "\n",
    "\n",
    "def validate(ab, dl, device='cuda', split='val', epochsize=100, batchsize=100, negsize=20, ortho_reg=0.1):\n",
    "    losses = []\n",
    "    batches = dl.batch_generator(split, batchsize=batchsize, negsize=negsize, device=device)\n",
    "    with tqdm.tqdm(range(epochsize), total=epochsize, desc='validating') as pbar:\n",
    "        for b in pbar:\n",
    "            pos, neg = next(batches)\n",
    "            r_s, z_s, z_n = ab(pos, neg)\n",
    "            J = max_margin_loss(r_s, z_s, z_n).item()\n",
    "            U = orthogonal_regularization(ab.T.weight).item()\n",
    "            losses.append((J + ortho_reg * batchsize * U))\n",
    "            x = (b + 1, np.mean(losses))\n",
    "            pbar.set_description('VAL BATCH: %d | MEAN-VAL-LOSS: %0.5f' % x)\n",
    "    return np.mean(losses)\n",
    "\n",
    "\n",
    "def train(ab, dl, device='cuda', \n",
    "          epochs=5, epochsize=100, initial_lr=0.02, batchsize=100, negsize=20, ortho_reg=0.1):    \n",
    "    batches = dl.batch_generator('train', batchsize=batchsize, negsize=negsize, device=device)\n",
    "    i2w = dict((dl.w2i[w], w) for w in dl.w2i)\n",
    "\n",
    "    opt = optim.Adam(ab.parameters(), lr=initial_lr)\n",
    "    \n",
    "    plot = plotter()\n",
    "    \n",
    "    epoch_losses = collections.defaultdict(list)\n",
    "    val_loss = validate(ab, dl, device, 'val', epochsize, batchsize, negsize, ortho_reg)\n",
    "    epoch_losses['Training Loss'].append(float('inf'))\n",
    "    epoch_losses['Validation Loss'].append(val_loss)\n",
    "    #ab.sample_aspects(i2w)\n",
    "    sample_aspects(ab.aspects(), i2w)\n",
    "    plot(epoch_losses)\n",
    "    \n",
    "    for e in range(epochs):\n",
    "        train_losses = []\n",
    "        with tqdm.trange(epochsize) as pbar:\n",
    "            for b in pbar:\n",
    "                pos, neg = next(batches)\n",
    "                r_s, z_s, z_n = ab(pos, neg)\n",
    "                J = max_margin_loss(r_s, z_s, z_n)\n",
    "                U = orthogonal_regularization(ab.T.weight)\n",
    "                loss = J + ortho_reg * batchsize * U\n",
    "                opt.zero_grad()\n",
    "                loss.backward()\n",
    "                opt.step()\n",
    "\n",
    "                train_losses.append(loss.item())\n",
    "                x = (e + 1, opt.param_groups[0]['lr'], train_losses[-1])\n",
    "                d = 'TRAIN EPOCH: %d | LR: %0.5f | MEAN-TRAIN-LOSS: %0.5f' % x\n",
    "                pbar.set_description(d)\n",
    "\n",
    "                if b * batchsize % 100 == 0:\n",
    "                    lr = initial_lr * (1.0 - 1.0 * ((e + 1) * (b + 1)) / (epochs * epochsize))\n",
    "                    for pg in opt.param_groups:\n",
    "                        pg['lr'] = lr\n",
    "        \n",
    "        val_loss = validate(ab, dl, device, 'val', epochsize, batchsize, negsize, ortho_reg)\n",
    "        epoch_losses['Training Loss'].append(np.mean(train_losses))\n",
    "        epoch_losses['Validation Loss'].append(val_loss)\n",
    "        #ab.sample_aspects(i2w)\n",
    "        sample_aspects(ab.aspects(), i2w)\n",
    "        plot(epoch_losses)"
   ]
  },
  {
   "cell_type": "code",
   "execution_count": 3,
   "metadata": {
    "scrolled": false
   },
   "outputs": [
    {
     "name": "stderr",
     "output_type": "stream",
     "text": [
      "preprocessing \"./data/restaurant.train.txt\": 100%|██████████| 281989/281989 [00:18<00:00, 15495.08it/s]\n",
      "training: 162432it [00:01, 134259.84it/s]\n",
      "training: 162432it [00:02, 73693.64it/s]\n",
      "training: 162432it [00:02, 73951.99it/s]\n",
      "training: 162432it [00:02, 75765.28it/s]\n",
      "training: 162432it [00:02, 71514.02it/s]\n",
      "training: 162432it [00:02, 75130.41it/s]\n"
     ]
    },
    {
     "name": "stdout",
     "output_type": "stream",
     "text": [
      "n_vocab: 8311 | d_embed: 100 | n_aspects: 10\n"
     ]
    },
    {
     "name": "stderr",
     "output_type": "stream",
     "text": [
      "Traceback (most recent call last):\n",
      "  File \"<ipython-input-3-51e6cb131f1e>\", line 41, in <module>\n",
      "    initial_lr=initial_lr)\n",
      "  File \"<ipython-input-2-d66d2e8cde61>\", line 41, in train\n",
      "    plot = plotter()\n",
      "  File \"/srv/cluster/abae/abae_pytorch/train.py\", line 20, in plotter\n",
      "    f, ax = plt.subplots(1, 1, figsize=figsize)\n",
      "NameError: name 'plt' is not defined\n"
     ]
    }
   ],
   "source": [
    "import os\n",
    "import time\n",
    "from abae_pytorch.data import dataloader, preprocess\n",
    "from abae_pytorch import aspect_model\n",
    "\n",
    "\n",
    "#data = './data/wiki_01'\n",
    "#data = './data/beer.train.txt'\n",
    "data = './data/restaurant.train.txt'\n",
    "prep = data + '.prep'\n",
    "if not os.path.isfile(prep):\n",
    "    preprocess(data, prep)\n",
    "\n",
    "\n",
    "min_count = 10\n",
    "d_embed = 100\n",
    "n_aspects = 10\n",
    "device = 'cpu'\n",
    "w2v = prep + '.w2v'\n",
    "aspector = aspect_model(prep, w2v, min_count, d_embed, n_aspects, device)\n",
    "\n",
    "\n",
    "x = (aspector.w2v.n_vocab, aspector.w2v.d_embed, aspector.w2v.n_aspects)\n",
    "print('n_vocab: %d | d_embed: %d | n_aspects: %d' % x)\n",
    "\n",
    "\n",
    "split = {'train': 0.9, 'val': 0.05, 'test': 0.05}\n",
    "with dataloader(aspector.w2v.w2i, prep, split=split) as dl:\n",
    "\n",
    "    epochs = 20\n",
    "    epochsize = 100\n",
    "    batchsize = 100\n",
    "    negsize = 20\n",
    "    initial_lr = 0.001\n",
    "    train(aspector.ab, dl, \n",
    "          device=device,\n",
    "          epochs=epochs, \n",
    "          epochsize=epochsize,\n",
    "          batchsize=batchsize,\n",
    "          negsize=negsize,\n",
    "          initial_lr=initial_lr)"
   ]
  },
  {
   "cell_type": "markdown",
   "metadata": {},
   "source": [
    "#\n",
    "    preprocessing script for some known datasets\n",
    "        num tag for preprocessing\n",
    "    \n",
    "    \n",
    "    model wrap class\n",
    "\n",
    "        given preprocessed data path\n",
    "            train w2v models\n",
    "                word embeddings trained on partitions too...\n",
    "                optionally use different w2v training corpus\n",
    "            initialize aspect matrix\n",
    "                inferring n_aspects?\n",
    "                    downweight specificity?\n",
    "\n",
    "        given preprocessed data path, train abae model\n",
    "        \n",
    "        given sentences, provide aspect predictions\n",
    "\n",
    "        save and load combinations of components\n",
    "\n",
    "\n",
    "    break into package\n",
    "        cli\n",
    "        documentation\n",
    "        setup.py\n",
    "        requirements.txt"
   ]
  },
  {
   "cell_type": "markdown",
   "metadata": {},
   "source": [
    "# TRASH "
   ]
  },
  {
   "cell_type": "code",
   "execution_count": null,
   "metadata": {},
   "outputs": [],
   "source": [
    "!{'wc %s' % wd.prep_path}"
   ]
  },
  {
   "cell_type": "markdown",
   "metadata": {},
   "source": [
    "    class dedicated to making a structured dataset a particular data source\n",
    "        raw text -> preprocessing -> splitting\n",
    "        creates a vocab\n",
    "        vocab trains word embeddings\n",
    "\n",
    "    class data loader which serves batches of training/evaluation data\n",
    "        requires preprocessed text to serve\n",
    "        requires predetermined vocab\n",
    "        vocab requires word embeddings\n",
    "\n",
    "    class model just the neural network parts\n",
    "\n",
    "    class wrap model with interface\n",
    "        training\n",
    "        evaluation\n",
    "        deployment\n",
    "\n",
    "    cli script covering interface"
   ]
  },
  {
   "cell_type": "code",
   "execution_count": null,
   "metadata": {},
   "outputs": [],
   "source": []
  }
 ],
 "metadata": {
  "kernelspec": {
   "display_name": "Python 3",
   "language": "python",
   "name": "python3"
  },
  "language_info": {
   "codemirror_mode": {
    "name": "ipython",
    "version": 3
   },
   "file_extension": ".py",
   "mimetype": "text/x-python",
   "name": "python",
   "nbconvert_exporter": "python",
   "pygments_lexer": "ipython3",
   "version": "3.7.0"
  }
 },
 "nbformat": 4,
 "nbformat_minor": 2
}
